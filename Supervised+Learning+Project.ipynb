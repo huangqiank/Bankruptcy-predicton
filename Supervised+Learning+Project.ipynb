{
 "cells": [
  {
   "cell_type": "code",
   "execution_count": 192,
   "metadata": {
    "collapsed": true
   },
   "outputs": [],
   "source": [
    "## Contents"
   ]
  },
  {
   "cell_type": "markdown",
   "metadata": {},
   "source": [
    "# Part 1: Data Exploration"
   ]
  },
  {
   "cell_type": "markdown",
   "metadata": {},
   "source": [
    "### Part 1.1: Understand the Raw Dataset"
   ]
  },
  {
   "cell_type": "code",
   "execution_count": 193,
   "metadata": {},
   "outputs": [
    {
     "name": "stderr",
     "output_type": "stream",
     "text": [
      "/Users/qiankunhuang/anaconda/lib/python2.7/site-packages/ipykernel_launcher.py:18: FutureWarning: convert_objects is deprecated.  Use the data-type specific converters pd.to_datetime, pd.to_timedelta and pd.to_numeric.\n"
     ]
    },
    {
     "data": {
      "text/html": [
       "<div>\n",
       "<style>\n",
       "    .dataframe thead tr:only-child th {\n",
       "        text-align: right;\n",
       "    }\n",
       "\n",
       "    .dataframe thead th {\n",
       "        text-align: left;\n",
       "    }\n",
       "\n",
       "    .dataframe tbody tr th {\n",
       "        vertical-align: top;\n",
       "    }\n",
       "</style>\n",
       "<table border=\"1\" class=\"dataframe\">\n",
       "  <thead>\n",
       "    <tr style=\"text-align: right;\">\n",
       "      <th></th>\n",
       "      <th>0</th>\n",
       "      <th>1</th>\n",
       "      <th>2</th>\n",
       "      <th>3</th>\n",
       "      <th>4</th>\n",
       "      <th>5</th>\n",
       "      <th>6</th>\n",
       "      <th>7</th>\n",
       "      <th>8</th>\n",
       "      <th>9</th>\n",
       "      <th>...</th>\n",
       "      <th>50</th>\n",
       "      <th>51</th>\n",
       "      <th>52</th>\n",
       "      <th>53</th>\n",
       "      <th>54</th>\n",
       "      <th>55</th>\n",
       "      <th>56</th>\n",
       "      <th>57</th>\n",
       "      <th>58</th>\n",
       "      <th>59</th>\n",
       "    </tr>\n",
       "  </thead>\n",
       "  <tbody>\n",
       "    <tr>\n",
       "      <th>0</th>\n",
       "      <td>-3.163572</td>\n",
       "      <td>-0.148658</td>\n",
       "      <td>-1.113434</td>\n",
       "      <td>-0.07252</td>\n",
       "      <td>-0.000001</td>\n",
       "      <td>0.328009</td>\n",
       "      <td>-2.398023</td>\n",
       "      <td>-0.089499</td>\n",
       "      <td>-0.152512</td>\n",
       "      <td>-0.062503</td>\n",
       "      <td>...</td>\n",
       "      <td>4.986895e-09</td>\n",
       "      <td>0.016169</td>\n",
       "      <td>-0.018174</td>\n",
       "      <td>-0.023743</td>\n",
       "      <td>-0.002108</td>\n",
       "      <td>-0.000064</td>\n",
       "      <td>0.000735</td>\n",
       "      <td>0.000001</td>\n",
       "      <td>-0.034619</td>\n",
       "      <td>-0.000877</td>\n",
       "    </tr>\n",
       "  </tbody>\n",
       "</table>\n",
       "<p>1 rows × 60 columns</p>\n",
       "</div>"
      ],
      "text/plain": [
       "         0         1         2        3         4         5         6   \\\n",
       "0 -3.163572 -0.148658 -1.113434 -0.07252 -0.000001  0.328009 -2.398023   \n",
       "\n",
       "         7         8         9     ...               50        51        52  \\\n",
       "0 -0.089499 -0.152512 -0.062503    ...     4.986895e-09  0.016169 -0.018174   \n",
       "\n",
       "         53        54        55        56        57        58        59  \n",
       "0 -0.023743 -0.002108 -0.000064  0.000735  0.000001 -0.034619 -0.000877  \n",
       "\n",
       "[1 rows x 60 columns]"
      ]
     },
     "execution_count": 193,
     "metadata": {},
     "output_type": "execute_result"
    }
   ],
   "source": [
    "import arff\n",
    "import pandas as pd\n",
    "import numpy as np\n",
    "from sklearn import preprocessing\n",
    "import matplotlib.pyplot as plt \n",
    "plt.rc(\"font\", size=14)\n",
    "from sklearn.linear_model import LogisticRegression\n",
    "from sklearn.cross_validation import train_test_split\n",
    "import seaborn as sns\n",
    "sns.set(style=\"white\")\n",
    "sns.set(style=\"whitegrid\", color_codes=True)\n",
    "\n",
    "data=arff.load(open('1year.arff'))\n",
    "data=pd.DataFrame(np.array(data['data']))\n",
    "data=data.drop([26,20,36,10], axis=1)\n",
    "\n",
    "data=data.dropna(axis=0)\n",
    "data=data.convert_objects(convert_numeric=True)\n",
    "\n",
    "crupt_data = data[data[64] == 1]\n",
    "uncrupt_data=data[data[64]==0]\n",
    "\n",
    "processed_data=uncrupt_data\n",
    "for i in range(5):\n",
    "    processed_data=processed_data.append(crupt_data)\n",
    "\n",
    "response=[64]\n",
    "predictor_list=[i for i in data.columns.values.tolist() if i not in response]\n",
    "\n",
    "y=processed_data[64]\n",
    "X=processed_data[predictor_list]\n",
    "\n",
    "\n",
    "classifier = LogisticRegression(random_state=0,penalty=\"l1\")\n",
    "pd.DataFrame(classifier.fit(X, y).coef_)\n",
    "\n"
   ]
  },
  {
   "cell_type": "code",
   "execution_count": 194,
   "metadata": {},
   "outputs": [
    {
     "name": "stdout",
     "output_type": "stream",
     "text": [
      "Num of rows: 7626\n",
      "Num of columns: 60\n"
     ]
    }
   ],
   "source": [
    "print \"Num of rows: \" + str(X.shape[0]) # row count\n",
    "print \"Num of columns: \" + str(X.shape[1]) # col count"
   ]
  },
  {
   "cell_type": "markdown",
   "metadata": {},
   "source": [
    "### Part 1.2: Data cleaning"
   ]
  },
  {
   "cell_type": "markdown",
   "metadata": {},
   "source": [
    "Remove Extra Whitespace"
   ]
  },
  {
   "cell_type": "code",
   "execution_count": 195,
   "metadata": {},
   "outputs": [
    {
     "name": "stdout",
     "output_type": "stream",
     "text": [
      "                0            1            2            3              4   \\\n",
      "count  7626.000000  7626.000000  7626.000000  7626.000000    7626.000000   \n",
      "mean      0.093268     0.528058     0.161425     2.327136     211.333924   \n",
      "std       0.161257     0.327771     0.324226     4.199151   15393.772459   \n",
      "min      -1.186200     0.004765   -10.036000     0.060713 -102660.000000   \n",
      "25%       0.015301     0.314260     0.008281     1.016825     -49.293500   \n",
      "50%       0.066619     0.508415     0.160460     1.420450     -10.955500   \n",
      "75%       0.147328     0.703982     0.347100     2.319650      30.962500   \n",
      "max       1.994300    10.759000     0.951800   163.890000  990900.000000   \n",
      "\n",
      "                5            6            7            8            9   \\\n",
      "count  7626.000000  7626.000000  7626.000000  7626.000000  7626.000000   \n",
      "mean      0.050777     0.110932     2.257132     1.753287     0.447563   \n",
      "std       0.517107     0.176035     6.134299     1.511093     0.334422   \n",
      "min     -37.292000    -1.186200    -2.003200     0.000005   -10.253000   \n",
      "25%       0.000000     0.020466     0.397840     1.032000     0.277383   \n",
      "50%       0.000000     0.079989     0.923090     1.177300     0.466520   \n",
      "75%       0.128645     0.175882     2.079425     2.077400     0.656972   \n",
      "max       3.424400     1.994300   208.880000    71.555000     0.995240   \n",
      "\n",
      "          ...                 54            55           56            57  \\\n",
      "count     ...       7.626000e+03  7.626000e+03  7626.000000  7.626000e+03   \n",
      "mean      ...       8.086377e+03 -1.453516e+02     0.008370  1.463518e+02   \n",
      "std       ...       6.985310e+04  1.269138e+04     8.329691  1.269137e+04   \n",
      "min       ...      -8.004700e+05 -1.108300e+06  -315.370000 -4.194000e-03   \n",
      "25%       ...       3.085475e+00  1.634800e-02     0.045030  8.760500e-01   \n",
      "50%       ...       1.421050e+03  5.597950e-02     0.164865  9.449500e-01   \n",
      "75%       ...       5.727300e+03  1.277925e-01     0.336620  9.843500e-01   \n",
      "max       ...       4.398400e+06  9.996000e-01   126.670000  1.108300e+06   \n",
      "\n",
      "                58            59           60            61           62  \\\n",
      "count  7626.000000  7.626000e+03  7626.000000  7.626000e+03  7626.000000   \n",
      "mean      0.291899  3.984280e+02    11.592707  4.359314e+03     7.699362   \n",
      "std       6.096829  2.484153e+04    34.236082  2.983247e+05    18.073808   \n",
      "min    -327.970000  4.700000e-05     0.000016  3.502200e-01     0.000015   \n",
      "25%       0.000000  5.907000e+00     4.916700  4.561075e+01     3.281325   \n",
      "50%       0.034476  1.002750e+01     7.144300  7.199650e+01     5.069700   \n",
      "75%       0.289928  2.015750e+01    10.973750  1.112350e+02     8.002550   \n",
      "max     119.580000  2.137800e+06  1451.500000  2.501600e+07  1042.200000   \n",
      "\n",
      "                63  \n",
      "count  7626.000000  \n",
      "mean     20.507458  \n",
      "std     150.322348  \n",
      "min       0.000010  \n",
      "25%       2.501475  \n",
      "50%       4.543900  \n",
      "75%       9.443000  \n",
      "max    8226.600000  \n",
      "\n",
      "[8 rows x 60 columns]\n"
     ]
    }
   ],
   "source": [
    "\n",
    "print (X.describe())\n"
   ]
  },
  {
   "cell_type": "markdown",
   "metadata": {},
   "source": [
    "### Part 1.3:  Understand the features"
   ]
  },
  {
   "cell_type": "code",
   "execution_count": 196,
   "metadata": {},
   "outputs": [
    {
     "name": "stdout",
     "output_type": "stream",
     "text": [
      "(7626, 60)\n"
     ]
    }
   ],
   "source": [
    "print (X.shape)"
   ]
  },
  {
   "cell_type": "code",
   "execution_count": 197,
   "metadata": {},
   "outputs": [
    {
     "data": {
      "text/plain": [
       "<matplotlib.axes._subplots.AxesSubplot at 0x11bbbca90>"
      ]
     },
     "execution_count": 197,
     "metadata": {},
     "output_type": "execute_result"
    },
    {
     "data": {
      "image/png": "[encoded data removed]",
      "text/plain": [
       "<matplotlib.figure.Figure at 0x1198ecd90>"
      ]
     },
     "metadata": {},
     "output_type": "display_data"
    }
   ],
   "source": [
    "%matplotlib inline\n",
    "import matplotlib.pyplot as plt\n",
    "import seaborn as sb\n",
    "sb.distplot(X[1])"
   ]
  },
  {
   "cell_type": "code",
   "execution_count": 198,
   "metadata": {},
   "outputs": [
    {
     "data": {
      "text/plain": [
       "<matplotlib.axes._subplots.AxesSubplot at 0x110263f10>"
      ]
     },
     "execution_count": 198,
     "metadata": {},
     "output_type": "execute_result"
    },
    {
     "data": {
      "image/png": "[encoded data removed]",
      "text/plain": [
       "<matplotlib.figure.Figure at 0x1104637d0>"
      ]
     },
     "metadata": {},
     "output_type": "display_data"
    }
   ],
   "source": [
    "corr = processed_data.corr()\n",
    "sb.heatmap(corr>0.99)\n",
    "\n"
   ]
  },
  {
   "cell_type": "markdown",
   "metadata": {},
   "source": [
    "# Part 2: Feature Preprocessing"
   ]
  },
  {
   "cell_type": "code",
   "execution_count": 199,
   "metadata": {
    "scrolled": true
   },
   "outputs": [
    {
     "name": "stdout",
     "output_type": "stream",
     "text": [
      "[]\n",
      "[(6, 13), (6, 17), (7, 16), (12, 19), (12, 29), (12, 42), (12, 43), (12, 48), (12, 55), (12, 57), (13, 17), (15, 25), (18, 22), (18, 30), (18, 38), (18, 41), (19, 29), (19, 42), (19, 43), (19, 48), (19, 55), (19, 57), (22, 30), (22, 38), (22, 41), (29, 42), (29, 43), (29, 48), (29, 55), (29, 57), (30, 38), (30, 41), (31, 51), (32, 62), (38, 41), (42, 43), (42, 48), (42, 55), (42, 57), (43, 48), (43, 55), (43, 57), (48, 55), (48, 57), (52, 53), (55, 57)]\n",
      "[0, 1, 2, 6, 9, 13, 17, 21, 23, 24, 34, 37, 50, 64]\n"
     ]
    }
   ],
   "source": [
    "A_ir=[]\n",
    "A_r=[]\n",
    "A_rv=[]\n",
    "for i in xrange(65):\n",
    "    if i not in [26,20,36,10]:\n",
    "        if abs(corr[64][i])<0.001:\n",
    "            A_ir.append(i)\n",
    "        else:\n",
    "            continue\n",
    "    else:\n",
    "        continue\n",
    "        \n",
    "for i in xrange(65):\n",
    "    if i not in [26,20,36,10]:\n",
    "        if abs(corr[64][i])>0.1:\n",
    "            A_rv.append(i)\n",
    "        else:\n",
    "            continue\n",
    "    else:\n",
    "        continue\n",
    "\n",
    "for i in xrange(65):\n",
    "    for j in xrange(65):\n",
    "           if i not in [26,20,36,10] and j not in [26,20,36,10]:\n",
    "                if abs(corr[i][j])>0.99 and j!=i:\n",
    "                    if (j,i) not in A_r:\n",
    "                        A_r.append((i,j))\n",
    "                    else:\n",
    "                         continue \n",
    "                else:\n",
    "                    continue\n",
    "print A_ir\n",
    "print A_r\n",
    "print A_rv\n"
   ]
  },
  {
   "cell_type": "code",
   "execution_count": 200,
   "metadata": {},
   "outputs": [],
   "source": [
    "# Get ground truth data\n",
    "y= y.as_matrix().astype(np.float)\n",
    "x= X.as_matrix().astype(np.float)\n",
    "# Converts data frame to its Numpy-array representation.\n",
    "\n"
   ]
  },
  {
   "cell_type": "code",
   "execution_count": 201,
   "metadata": {
    "scrolled": true
   },
   "outputs": [
    {
     "name": "stdout",
     "output_type": "stream",
     "text": [
      "Feature space holds 7626 observations and 60 features\n",
      "Unique target labels: [ 0.  1.]\n"
     ]
    }
   ],
   "source": [
    "# Scale the data\n",
    "from sklearn.preprocessing import StandardScaler\n",
    "scaler = StandardScaler()\n",
    "X = scaler.fit_transform(X)\n",
    "\n",
    "print \"Feature space holds %d observations and %d features\" % x.shape\n",
    "print \"Unique target labels:\", np.unique(y)\n",
    "#(X-U)/sigma 减小误差\n"
   ]
  },
  {
   "cell_type": "markdown",
   "metadata": {},
   "source": [
    "# Part 3: Model Training and Result Evaluation"
   ]
  },
  {
   "cell_type": "markdown",
   "metadata": {},
   "source": [
    "### Part 3.1: K-fold Cross-Validation"
   ]
  },
  {
   "cell_type": "code",
   "execution_count": 202,
   "metadata": {
    "collapsed": true
   },
   "outputs": [],
   "source": [
    "from sklearn.cross_validation import KFold\n",
    "def run_cv(X,y,clf_class,**kwargs):\n",
    "    # Construct a kfolds object\n",
    "    kf = KFold(len(y),n_folds=5,shuffle=True)\n",
    "    y_pred = y.copy()\n",
    "    clf = clf_class(**kwargs)\n",
    "    # Iterate through folds\n",
    "    for train_index, test_index in kf:\n",
    "        X_train, X_test = X[train_index], X[test_index]\n",
    "        y_train = y[train_index]\n",
    "        \n",
    "        clf.fit(X_train,y_train)\n",
    "        y_pred[test_index] = clf.predict(X_test)\n",
    "    return y_pred"
   ]
  },
  {
   "cell_type": "markdown",
   "metadata": {},
   "source": [
    "### Part 3.2: Run Supervised Learning Models and Calculate Accuracy"
   ]
  },
  {
   "cell_type": "code",
   "execution_count": 203,
   "metadata": {},
   "outputs": [
    {
     "name": "stdout",
     "output_type": "stream",
     "text": [
      "(7626,)\n"
     ]
    }
   ],
   "source": [
    "from sklearn.ensemble import RandomForestClassifier\n",
    "from sklearn.neighbors import KNeighborsClassifier \n",
    "from sklearn.linear_model import LogisticRegression\n",
    "from sklearn.svm import SVC\n",
    "from sklearn.cross_validation import KFold\n",
    "from sklearn.cross_validation import cross_val_score\n",
    "def accuracy(y_true,y_pred):\n",
    "    return np.mean(y_true == y_pred) # NumPy interpretes True and False as 1. and 0.\n",
    "\n",
    "\n",
    "LR_CV_result = run_cv(X,y,LogisticRegression)\n",
    "RF_CV_result = run_cv(X,y,RandomForestClassifier)\n",
    "KNN_CV_result = run_cv(X,y,KNeighborsClassifier) #Default: n_neighbors=5\n",
    "SVM_CV_result=run_cv(X,y,SVC)\n",
    "print SVM_CV_result.shape"
   ]
  },
  {
   "cell_type": "code",
   "execution_count": 204,
   "metadata": {},
   "outputs": [
    {
     "name": "stdout",
     "output_type": "stream",
     "text": [
      "Logistic Regression (L2 is default): 0.837529504327\n",
      "Random forest: 0.992918961448\n",
      "K-nearest-neighbors: 0.88106477839\n",
      "SVM0.847626540782\n"
     ]
    }
   ],
   "source": [
    "print \"Logistic Regression (L2 is default): \" + str(accuracy(y, LR_CV_result))\n",
    "print \"Random forest: \" + str(accuracy(y, RF_CV_result))\n",
    "print \"K-nearest-neighbors: \" + str(accuracy(y, KNN_CV_result))\n",
    "print \"SVM\" + str(accuracy(y,SVM_CV_result))\n"
   ]
  },
  {
   "cell_type": "markdown",
   "metadata": {
    "collapsed": true
   },
   "source": [
    "Part 3.3: Calculate Confusion Matrix (Precision, Recall, Accuracy)"
   ]
  },
  {
   "cell_type": "code",
   "execution_count": 205,
   "metadata": {
    "collapsed": true
   },
   "outputs": [],
   "source": [
    "from sklearn.metrics import confusion_matrix\n",
    "from sklearn.metrics import precision_score\n",
    "from sklearn.metrics import recall_score\n",
    "\n",
    "def cal_evaluation(classifier, cm):\n",
    "    tp = cm[0][0]\n",
    "    fp = cm[0][1]\n",
    "    fn = cm[1][0]\n",
    "    tn = cm[1][1]\n",
    "    accuracy  = (tp + tn) / (tp + fp + fn + tn + 0.0)\n",
    "    precision = tp / (tp + fp + 0.0)\n",
    "    recall = tp / (tp + fn + 0.0)\n",
    "    print classifier\n",
    "    print \"Accuracy is \" + str(accuracy)\n",
    "    print \"Precision is \" + str(precision)\n",
    "    print \"Recall is \" + str(recall)\n",
    "\n",
    "def draw_confusion_matrices(confusion_matricies,class_names):\n",
    "    class_names = class_names.tolist()\n",
    "    for cm in confusion_matrices:\n",
    "        classifier, cm = cm[0], cm[1]\n",
    "        cal_evaluation(classifier, cm)\n",
    "        fig = plt.figure()\n",
    "        ax = fig.add_subplot(111)\n",
    "        cax = ax.matshow(cm, interpolation='nearest',cmap=plt.get_cmap('Reds'))\n",
    "        plt.title('Confusion matrix for %s' % classifier)\n",
    "        fig.colorbar(cax)\n",
    "        ax.set_xticklabels([''] + class_names)\n",
    "        ax.set_yticklabels([''] + class_names)\n",
    "        plt.xlabel('Predicted')\n",
    "        plt.ylabel('True')\n",
    "        plt.show()\n",
    "    \n",
    "y = np.array(y)\n",
    "class_names = np.unique(y)\n",
    "\n",
    "confusion_matrices = [\n",
    "    (\"Random Forest\", confusion_matrix(y,RF_CV_result)),\n",
    "    (\"K-Nearest-Neighbors\", confusion_matrix(y,KNN_CV_result)),\n",
    "    (\"Logisitic Regression\", confusion_matrix(y,LR_CV_result)),\n",
    "     (\"SVM\", confusion_matrix(y,SVM_CV_result))]"
   ]
  },
  {
   "cell_type": "code",
   "execution_count": 206,
   "metadata": {},
   "outputs": [
    {
     "name": "stdout",
     "output_type": "stream",
     "text": [
      "Random Forest\n",
      "Accuracy is 0.992918961448\n",
      "Precision is 0.992768432636\n",
      "Recall is 0.998734777795\n"
     ]
    },
    {
     "data": {
      "image/png": "[encoded data removed]",
      "text/plain": [
       "<matplotlib.figure.Figure at 0x11bba4090>"
      ]
     },
     "metadata": {},
     "output_type": "display_data"
    },
    {
     "name": "stdout",
     "output_type": "stream",
     "text": [
      "K-Nearest-Neighbors\n",
      "Accuracy is 0.88106477839\n",
      "Precision is 0.885080962113\n",
      "Recall is 0.969686531175\n"
     ]
    },
    {
     "data": {
      "image/png": "[encoded data removed]",
      "text/plain": [
       "<matplotlib.figure.Figure at 0x11b5c4c50>"
      ]
     },
     "metadata": {},
     "output_type": "display_data"
    },
    {
     "name": "stdout",
     "output_type": "stream",
     "text": [
      "Logisitic Regression\n",
      "Accuracy is 0.837529504327\n",
      "Precision is 0.979562961798\n",
      "Recall is 0.848910081744\n"
     ]
    },
    {
     "data": {
      "image/png": "[encoded data removed]",
      "text/plain": [
       "<matplotlib.figure.Figure at 0x11b872d90>"
      ]
     },
     "metadata": {},
     "output_type": "display_data"
    },
    {
     "name": "stdout",
     "output_type": "stream",
     "text": [
      "SVM\n",
      "Accuracy is 0.847626540782\n",
      "Precision is 0.997641880208\n",
      "Recall is 0.846923795543\n"
     ]
    },
    {
     "data": {
      "image/png": "[encoded data removed]",
      "text/plain": [
       "<matplotlib.figure.Figure at 0x11a903ed0>"
      ]
     },
     "metadata": {},
     "output_type": "display_data"
    }
   ],
   "source": [
    "%matplotlib inline\n",
    "draw_confusion_matrices(confusion_matrices,class_names)"
   ]
  },
  {
   "cell_type": "code",
   "execution_count": 207,
   "metadata": {},
   "outputs": [
    {
     "name": "stdout",
     "output_type": "stream",
     "text": [
      "Feature importance ranking by Random Forest Model:\n",
      "23 0.0517\n",
      "45 0.0399\n",
      "12 0.0334\n",
      "4 0.0316\n",
      "3 0.0256\n",
      "44 0.0237\n",
      "63 0.0219\n",
      "25 0.0208\n",
      "18 0.0204\n",
      "48 0.0203\n",
      "6 0.019\n",
      "5 0.0188\n",
      "40 0.0187\n",
      "14 0.0186\n",
      "28 0.0182\n",
      "2 0.0179\n",
      "34 0.0178\n",
      "21 0.0178\n",
      "15 0.0176\n",
      "33 0.0174\n",
      "11 0.0174\n",
      "39 0.0169\n",
      "24 0.0169\n",
      "0 0.0169\n",
      "8 0.0168\n",
      "41 0.0164\n",
      "35 0.0164\n",
      "13 0.0164\n",
      "57 0.0163\n",
      "29 0.0157\n",
      "49 0.0153\n",
      "54 0.0151\n",
      "37 0.0149\n",
      "47 0.0147\n",
      "27 0.0145\n",
      "56 0.0143\n",
      "46 0.0142\n",
      "43 0.0142\n",
      "1 0.0141\n",
      "30 0.0137\n",
      "52 0.0134\n",
      "60 0.0131\n",
      "22 0.0131\n",
      "7 0.0125\n",
      "53 0.0121\n",
      "9 0.0121\n",
      "19 0.012\n",
      "58 0.0116\n",
      "38 0.0115\n",
      "55 0.0114\n",
      "32 0.0113\n",
      "62 0.0106\n",
      "50 0.0104\n",
      "61 0.0103\n",
      "17 0.0103\n",
      "51 0.0096\n",
      "16 0.0095\n",
      "42 0.0086\n",
      "59 0.0084\n",
      "31 0.006\n"
     ]
    }
   ],
   "source": [
    "forest = RandomForestClassifier()\n",
    "forest.fit(X, y)\n",
    "\n",
    "importances = forest.feature_importances_\n",
    "\n",
    "# Print the feature ranking\n",
    "print(\"Feature importance ranking by Random Forest Model:\")\n",
    "for k,v in sorted(zip(map(lambda x: round(x, 4), importances), processed_data.columns), reverse=True):\n",
    "    print v , str(k)"
   ]
  },
  {
   "cell_type": "code",
   "execution_count": 208,
   "metadata": {},
   "outputs": [
    {
     "name": "stdout",
     "output_type": "stream",
     "text": [
      "Logistic Regression (L1) Coefficients\n",
      "62 -8.622\n",
      "32 7.0729\n",
      "47 2.7299\n",
      "49 2.1145\n",
      "51 -1.9759\n",
      "15 1.5284\n",
      "50 -1.5153\n",
      "37 -1.3734\n",
      "16 -1.1745\n",
      "44 1.0505\n",
      "45 -1.0095\n",
      "33 0.9407\n",
      "23 -0.9401\n",
      "9 0.9129\n",
      "1 0.8359\n",
      "3 -0.6685\n",
      "0 -0.6576\n",
      "11 -0.6402\n",
      "40 -0.5514\n",
      "2 -0.5494\n",
      "39 0.4263\n",
      "17 -0.3499\n",
      "8 -0.3414\n",
      "21 -0.3275\n",
      "35 0.3233\n",
      "6 -0.213\n",
      "14 0.2044\n",
      "53 -0.197\n",
      "34 -0.1707\n",
      "56 -0.1618\n",
      "59 -0.1584\n",
      "18 -0.1263\n",
      "13 -0.1108\n",
      "5 0.1089\n",
      "28 -0.0785\n",
      "46 0.0725\n",
      "24 0.0553\n",
      "63 -0.0475\n",
      "54 0.0204\n",
      "4 -0.0185\n",
      "58 -0.0172\n",
      "52 0.0156\n",
      "60 0.0008\n",
      "7 0.0\n",
      "12 0.0\n",
      "19 0.0\n",
      "22 0.0\n",
      "25 0.0\n",
      "27 0.0\n",
      "29 0.0\n",
      "30 0.0\n",
      "31 0.0\n",
      "38 0.0\n",
      "41 0.0\n",
      "42 0.0\n",
      "43 0.0\n",
      "48 0.0\n",
      "55 0.0\n",
      "57 0.0\n",
      "61 0.0\n"
     ]
    }
   ],
   "source": [
    "LRmodel_l1 = LogisticRegression(penalty=\"l1\")\n",
    "LRmodel_l1.fit(X, y)\n",
    "LRmodel_l1.coef_[0]\n",
    "print \"Logistic Regression (L1) Coefficients\"\n",
    "for k,v in sorted(zip(map(lambda x: round(x, 4), LRmodel_l1.coef_[0]), \n",
    "                      processed_data.columns), key=lambda (k,v):(-abs(k),v)):\n",
    "    print v ,str(k)"
   ]
  }
 ],
 "metadata": {
  "kernelspec": {
   "display_name": "Python 2",
   "language": "python",
   "name": "python2"
  },
  "language_info": {
   "codemirror_mode": {
    "name": "ipython",
    "version": 2
   },
   "file_extension": ".py",
   "mimetype": "text/x-python",
   "name": "python",
   "nbconvert_exporter": "python",
   "pygments_lexer": "ipython2",
   "version": "2.7.13"
  }
 },
 "nbformat": 4,
 "nbformat_minor": 1
}
